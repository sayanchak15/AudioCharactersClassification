{
 "cells": [
  {
   "cell_type": "code",
   "execution_count": 150,
   "metadata": {},
   "outputs": [],
   "source": [
    "import librosa\n",
    "import librosa.display\n",
    "import matplotlib.pyplot as plt\n",
    "import numpy as np\n",
    "import IPython.display as ipd\n",
    "import noisereduce as nr \n",
    "from tqdm import tqdm\n",
    "import os\n",
    "from sklearn.model_selection import train_test_split\n",
    "import tensorflow.keras as keras"
   ]
  },
  {
   "cell_type": "code",
   "execution_count": 151,
   "metadata": {},
   "outputs": [
    {
     "name": "stdout",
     "output_type": "stream",
     "text": [
      "966\n"
     ]
    }
   ],
   "source": [
    "# label_code = ['A','B','C','D','E', 'F', 'G','H','I','J','K','L','M']\n",
    "# y = [0,1,2,3,4,5,6,7,8,9,10,11,12]\n",
    "label_code = ['A','B','C','D','E', 'F', 'G','H','I','J','K','L','M','N','O','P','Q','R','S','T','U','V','W','X','Y','Z']\n",
    "y = [0,1,2,3,4,5,6,7,8,9,10,11,12,13,14,15,16,17,18,19,20,21,22,23,24,25]\n",
    "folder = 'audio/baba'\n",
    "count = 0\n",
    "for l in label_code:\n",
    "    directory = folder+'/'+l+'/small'\n",
    "    for filename in os.listdir(directory):\n",
    "        if filename.endswith(\".wav\"): \n",
    "            count +=1\n",
    "print(count)"
   ]
  },
  {
   "cell_type": "code",
   "execution_count": 152,
   "metadata": {},
   "outputs": [],
   "source": [
    "n_fft = 2048\n",
    "hop_length = 512"
   ]
  },
  {
   "cell_type": "code",
   "execution_count": 153,
   "metadata": {},
   "outputs": [],
   "source": [
    "data = []\n",
    "label = []\n",
    "i = 0\n",
    "MFCC = []\n",
    "for idx, l in enumerate(label_code):\n",
    "    directory = folder+'/'+l+'/small'\n",
    "    for filename in os.listdir(directory):\n",
    "        if filename.endswith(\".wav\"): \n",
    "            file = os.path.join(directory, filename)\n",
    "            x, _ = librosa.load(file, sr=22050) # sr * T = 22050 * 2(sec)\n",
    "            if x.shape == (10000,):\n",
    "                mfcc = librosa.feature.mfcc(x, n_fft = n_fft, hop_length= hop_length, n_mfcc= 13 )\n",
    "                MFCC.append(mfcc)  \n",
    "#                 print(idx, y, y[idx])\n",
    "                label.append(y[idx])\n",
    "                i +=1\n",
    "            else: continue\n",
    "        else:\n",
    "            continue"
   ]
  },
  {
   "cell_type": "code",
   "execution_count": 154,
   "metadata": {},
   "outputs": [
    {
     "data": {
      "text/plain": [
       "((955, 13, 20), (955,))"
      ]
     },
     "execution_count": 154,
     "metadata": {},
     "output_type": "execute_result"
    }
   ],
   "source": [
    "X = np.array(MFCC)\n",
    "y = np.array(label)\n",
    "# for i in range(len(MFCC)):\n",
    "#     print(MFCC[i].shape)\n",
    "X.shape, y.shape"
   ]
  },
  {
   "cell_type": "code",
   "execution_count": 155,
   "metadata": {},
   "outputs": [
    {
     "data": {
      "text/plain": [
       "(955, 13, 20, 1)"
      ]
     },
     "execution_count": 155,
     "metadata": {},
     "output_type": "execute_result"
    }
   ],
   "source": [
    "X = X.reshape(-1,13,20,1)\n",
    "X.shape"
   ]
  },
  {
   "cell_type": "code",
   "execution_count": 156,
   "metadata": {},
   "outputs": [],
   "source": [
    "X_train, X_test, y_train, y_test = train_test_split(X, y, test_size=0.3)"
   ]
  },
  {
   "cell_type": "code",
   "execution_count": 157,
   "metadata": {},
   "outputs": [
    {
     "data": {
      "text/plain": [
       "array([ 7,  6,  2,  7, 11, 10,  3,  0,  2, 11,  4,  1,  7,  4,  0,  2,  1,\n",
       "        9,  0, 12,  3,  0,  5,  0, 11,  4,  5,  1, 10,  1,  7,  1,  3,  6,\n",
       "        8,  5,  6,  0,  6,  7,  3, 10, 10,  5,  3,  1,  9,  8,  1, 12, 11,\n",
       "        5,  7,  2, 12,  3,  6,  9,  6,  9, 12,  4,  7,  4,  0,  1, 10,  7,\n",
       "        7,  6,  1,  1,  3,  5,  0,  5,  0,  1, 12,  1, 11,  2,  3,  3,  1,\n",
       "        0,  7,  3,  6,  2, 11,  3,  4,  0,  0,  1,  5,  6,  0,  8, 12,  1,\n",
       "        5,  0,  2,  1,  8, 12,  5,  9,  1, 10,  3, 11, 12,  5, 12,  9, 10,\n",
       "        4,  6, 10,  5,  4,  0,  5,  9,  1,  2,  6, 10,  6,  8, 12,  2,  3,\n",
       "        2,  2,  1,  4, 11, 12,  5,  2, 11,  6,  4,  0,  1,  3,  7,  4,  5,\n",
       "        7,  8,  7,  7, 12, 10,  5,  6, 11,  7,  1,  0,  5, 10,  1,  2,  5,\n",
       "        8,  3,  8,  7, 11,  8,  9,  7,  2,  3,  7,  7,  3,  5,  3,  4,  9,\n",
       "        0,  6,  8, 11,  7,  3,  0,  9,  0,  7,  6,  1,  4, 10,  9,  3,  0,\n",
       "        3,  2,  5,  0,  8,  1,  2,  6,  7,  0, 11,  1,  6, 11,  5,  4,  2,\n",
       "        6,  6,  7, 11,  9,  9,  9,  7,  8,  5,  2,  3,  2, 10,  1,  0, 10,\n",
       "        5,  8,  2,  4,  4,  3,  5,  8,  1,  2,  6,  7,  6,  1,  6,  4,  3,\n",
       "       10,  1,  0,  8,  4,  1,  0, 10,  0,  7,  1,  7,  3,  6, 10,  7,  6,\n",
       "        5,  1,  0,  3,  2,  0,  2,  7,  2,  2,  7,  2,  2,  5,  7])"
      ]
     },
     "execution_count": 157,
     "metadata": {},
     "output_type": "execute_result"
    }
   ],
   "source": [
    "y_test"
   ]
  },
  {
   "cell_type": "code",
   "execution_count": 158,
   "metadata": {},
   "outputs": [
    {
     "data": {
      "text/plain": [
       "(13, 20, 1)"
      ]
     },
     "execution_count": 158,
     "metadata": {},
     "output_type": "execute_result"
    }
   ],
   "source": [
    "X_train[0].shape"
   ]
  },
  {
   "cell_type": "code",
   "execution_count": 159,
   "metadata": {
    "scrolled": true
   },
   "outputs": [],
   "source": [
    "# librosa.display.specshow(X_train[0], sr = 22050, hop_length=hop_length)\n",
    "# plt.xlabel('Time')\n",
    "# plt.ylabel('MFCC')"
   ]
  },
  {
   "cell_type": "code",
   "execution_count": 172,
   "metadata": {},
   "outputs": [],
   "source": [
    "model = keras.Sequential([\n",
    "        keras.layers.Conv2D(32, (2, 2), activation='relu', input_shape=(X.shape[1], X.shape[2],1)),\n",
    "        keras.layers.MaxPooling2D((2, 2)),\n",
    "        keras.layers.Dropout(0.2),\n",
    "        keras.layers.Conv2D(64, (2, 2), activation='relu'),\n",
    "        keras.layers.MaxPooling2D((2, 2)),\n",
    "        keras.layers.Dropout(0.2),\n",
    "        # input layer\n",
    "        keras.layers.Flatten(),\n",
    "\n",
    "        # 1st dense layer\n",
    "        keras.layers.Dense(512, activation='relu'),\n",
    "        keras.layers.Dropout(0.2),\n",
    "\n",
    "        # 2nd dense layer\n",
    "        keras.layers.Dense(256, activation='relu'),\n",
    "        keras.layers.Dropout(0.2),\n",
    "\n",
    "        # 3rd dense layer\n",
    "        keras.layers.Dense(64, activation='relu'),\n",
    "\n",
    "        # output layer\n",
    "        keras.layers.Dense(13, activation='softmax')\n",
    "    ])\n",
    "\n",
    "    # compile model\n",
    "optimiser = keras.optimizers.Adam(learning_rate=0.001)\n",
    "model.compile(optimizer=optimiser,\n",
    "                  loss='sparse_categorical_crossentropy',\n",
    "                  metrics=['accuracy'])\n",
    "\n",
    "# model.summary()"
   ]
  },
  {
   "cell_type": "code",
   "execution_count": 173,
   "metadata": {},
   "outputs": [
    {
     "name": "stdout",
     "output_type": "stream",
     "text": [
      "Epoch 1/100\n",
      "21/21 [==============================] - 1s 17ms/step - loss: 17.0392 - accuracy: 0.0985 - val_loss: 2.6893 - val_accuracy: 0.1185\n",
      "Epoch 2/100\n",
      "21/21 [==============================] - 0s 10ms/step - loss: 3.7020 - accuracy: 0.1166 - val_loss: 2.5599 - val_accuracy: 0.0906\n",
      "Epoch 3/100\n",
      "21/21 [==============================] - 0s 10ms/step - loss: 2.6825 - accuracy: 0.0992 - val_loss: 2.5552 - val_accuracy: 0.1010\n",
      "Epoch 4/100\n",
      "21/21 [==============================] - 0s 10ms/step - loss: 2.6002 - accuracy: 0.1071 - val_loss: 2.5416 - val_accuracy: 0.0906\n",
      "Epoch 5/100\n",
      "21/21 [==============================] - 0s 9ms/step - loss: 2.6034 - accuracy: 0.0889 - val_loss: 2.5481 - val_accuracy: 0.0801\n",
      "Epoch 6/100\n",
      "21/21 [==============================] - 0s 10ms/step - loss: 2.5350 - accuracy: 0.1330 - val_loss: 2.5253 - val_accuracy: 0.0976\n",
      "Epoch 7/100\n",
      "21/21 [==============================] - 0s 10ms/step - loss: 2.5349 - accuracy: 0.1386 - val_loss: 2.4949 - val_accuracy: 0.1672\n",
      "Epoch 8/100\n",
      "21/21 [==============================] - 0s 10ms/step - loss: 2.4766 - accuracy: 0.1691 - val_loss: 2.4266 - val_accuracy: 0.1498\n",
      "Epoch 9/100\n",
      "21/21 [==============================] - 0s 18ms/step - loss: 2.4525 - accuracy: 0.1704 - val_loss: 2.3312 - val_accuracy: 0.2300\n",
      "Epoch 10/100\n",
      "21/21 [==============================] - 0s 13ms/step - loss: 2.3332 - accuracy: 0.1983 - val_loss: 2.1901 - val_accuracy: 0.2753\n",
      "Epoch 11/100\n",
      "21/21 [==============================] - 0s 11ms/step - loss: 2.2856 - accuracy: 0.1933 - val_loss: 2.1686 - val_accuracy: 0.2439\n",
      "Epoch 12/100\n",
      "21/21 [==============================] - 0s 10ms/step - loss: 2.1734 - accuracy: 0.2635 - val_loss: 2.0691 - val_accuracy: 0.2544\n",
      "Epoch 13/100\n",
      "21/21 [==============================] - 0s 12ms/step - loss: 2.1579 - accuracy: 0.2384 - val_loss: 1.9907 - val_accuracy: 0.3031\n",
      "Epoch 14/100\n",
      "21/21 [==============================] - 0s 10ms/step - loss: 2.0058 - accuracy: 0.2905 - val_loss: 1.9739 - val_accuracy: 0.3206\n",
      "Epoch 15/100\n",
      "21/21 [==============================] - 0s 11ms/step - loss: 1.9825 - accuracy: 0.3053 - val_loss: 1.8744 - val_accuracy: 0.3484\n",
      "Epoch 16/100\n",
      "21/21 [==============================] - 0s 10ms/step - loss: 1.9010 - accuracy: 0.3242 - val_loss: 1.9032 - val_accuracy: 0.3275\n",
      "Epoch 17/100\n",
      "21/21 [==============================] - 0s 12ms/step - loss: 1.8175 - accuracy: 0.3538 - val_loss: 1.7775 - val_accuracy: 0.3902\n",
      "Epoch 18/100\n",
      "21/21 [==============================] - 0s 10ms/step - loss: 1.7615 - accuracy: 0.3797 - val_loss: 1.7206 - val_accuracy: 0.3972\n",
      "Epoch 19/100\n",
      "21/21 [==============================] - 0s 10ms/step - loss: 1.6835 - accuracy: 0.4160 - val_loss: 1.7163 - val_accuracy: 0.3902\n",
      "Epoch 20/100\n",
      "21/21 [==============================] - 0s 13ms/step - loss: 1.6273 - accuracy: 0.4530 - val_loss: 1.6185 - val_accuracy: 0.4843\n",
      "Epoch 21/100\n",
      "21/21 [==============================] - 0s 14ms/step - loss: 1.5950 - accuracy: 0.4227 - val_loss: 1.5797 - val_accuracy: 0.5052\n",
      "Epoch 22/100\n",
      "21/21 [==============================] - 0s 11ms/step - loss: 1.6020 - accuracy: 0.4437 - val_loss: 1.5367 - val_accuracy: 0.4530\n",
      "Epoch 23/100\n",
      "21/21 [==============================] - 0s 10ms/step - loss: 1.5365 - accuracy: 0.4383 - val_loss: 1.4708 - val_accuracy: 0.5436\n",
      "Epoch 24/100\n",
      "21/21 [==============================] - 0s 11ms/step - loss: 1.4951 - accuracy: 0.4707 - val_loss: 1.4075 - val_accuracy: 0.5470\n",
      "Epoch 25/100\n",
      "21/21 [==============================] - 0s 12ms/step - loss: 1.3016 - accuracy: 0.5826 - val_loss: 1.3226 - val_accuracy: 0.5679\n",
      "Epoch 26/100\n",
      "21/21 [==============================] - 0s 12ms/step - loss: 1.3182 - accuracy: 0.5250 - val_loss: 1.2656 - val_accuracy: 0.6028\n",
      "Epoch 27/100\n",
      "21/21 [==============================] - 0s 10ms/step - loss: 1.3397 - accuracy: 0.5676 - val_loss: 1.4115 - val_accuracy: 0.5470\n",
      "Epoch 28/100\n",
      "21/21 [==============================] - 0s 10ms/step - loss: 1.3449 - accuracy: 0.5387 - val_loss: 1.2910 - val_accuracy: 0.5645\n",
      "Epoch 29/100\n",
      "21/21 [==============================] - 0s 10ms/step - loss: 1.1934 - accuracy: 0.6113 - val_loss: 1.2788 - val_accuracy: 0.6028\n",
      "Epoch 30/100\n",
      "21/21 [==============================] - 0s 9ms/step - loss: 1.3470 - accuracy: 0.5420 - val_loss: 1.1779 - val_accuracy: 0.6341\n",
      "Epoch 31/100\n",
      "21/21 [==============================] - 0s 10ms/step - loss: 1.1658 - accuracy: 0.6193 - val_loss: 1.2166 - val_accuracy: 0.6028\n",
      "Epoch 32/100\n",
      "21/21 [==============================] - 0s 12ms/step - loss: 1.0834 - accuracy: 0.6186 - val_loss: 1.1620 - val_accuracy: 0.6446\n",
      "Epoch 33/100\n",
      "21/21 [==============================] - 0s 10ms/step - loss: 1.0069 - accuracy: 0.6315 - val_loss: 1.1327 - val_accuracy: 0.6341\n",
      "Epoch 34/100\n",
      "21/21 [==============================] - 0s 10ms/step - loss: 1.1025 - accuracy: 0.5804 - val_loss: 1.1152 - val_accuracy: 0.6585\n",
      "Epoch 35/100\n",
      "21/21 [==============================] - 0s 11ms/step - loss: 0.9810 - accuracy: 0.6662 - val_loss: 1.1474 - val_accuracy: 0.6516\n",
      "Epoch 36/100\n",
      "21/21 [==============================] - 0s 20ms/step - loss: 0.9926 - accuracy: 0.6285 - val_loss: 1.0830 - val_accuracy: 0.6516\n",
      "Epoch 37/100\n",
      "21/21 [==============================] - 0s 10ms/step - loss: 1.0233 - accuracy: 0.6635 - val_loss: 1.0923 - val_accuracy: 0.6725\n",
      "Epoch 38/100\n",
      "21/21 [==============================] - 0s 9ms/step - loss: 0.8627 - accuracy: 0.6889 - val_loss: 1.1047 - val_accuracy: 0.6585\n",
      "Epoch 39/100\n",
      "21/21 [==============================] - 0s 9ms/step - loss: 0.8659 - accuracy: 0.6971 - val_loss: 1.0669 - val_accuracy: 0.6481\n",
      "Epoch 40/100\n",
      "21/21 [==============================] - 0s 9ms/step - loss: 0.8735 - accuracy: 0.6905 - val_loss: 1.0503 - val_accuracy: 0.6760\n",
      "Epoch 41/100\n",
      "21/21 [==============================] - 0s 9ms/step - loss: 0.7961 - accuracy: 0.6842 - val_loss: 1.0414 - val_accuracy: 0.6585\n",
      "Epoch 42/100\n",
      "21/21 [==============================] - 0s 9ms/step - loss: 0.7869 - accuracy: 0.7236 - val_loss: 1.0271 - val_accuracy: 0.7317\n",
      "Epoch 43/100\n",
      "21/21 [==============================] - 0s 9ms/step - loss: 0.6897 - accuracy: 0.7506 - val_loss: 1.0147 - val_accuracy: 0.7178\n",
      "Epoch 44/100\n",
      "21/21 [==============================] - 0s 9ms/step - loss: 0.7818 - accuracy: 0.7301 - val_loss: 0.9587 - val_accuracy: 0.7247\n",
      "Epoch 45/100\n",
      "21/21 [==============================] - 0s 9ms/step - loss: 0.7516 - accuracy: 0.7287 - val_loss: 0.9656 - val_accuracy: 0.7352\n",
      "Epoch 46/100\n",
      "21/21 [==============================] - 0s 9ms/step - loss: 0.6443 - accuracy: 0.7905 - val_loss: 0.9584 - val_accuracy: 0.7143\n",
      "Epoch 47/100\n",
      "21/21 [==============================] - 0s 9ms/step - loss: 0.6511 - accuracy: 0.7679 - val_loss: 0.9695 - val_accuracy: 0.7317\n",
      "Epoch 48/100\n",
      "21/21 [==============================] - 0s 9ms/step - loss: 0.7660 - accuracy: 0.7195 - val_loss: 0.9964 - val_accuracy: 0.7108\n",
      "Epoch 49/100\n",
      "21/21 [==============================] - 0s 9ms/step - loss: 0.6558 - accuracy: 0.7612 - val_loss: 1.0003 - val_accuracy: 0.7038\n",
      "Epoch 50/100\n",
      "21/21 [==============================] - 0s 9ms/step - loss: 0.6549 - accuracy: 0.7807 - val_loss: 1.0905 - val_accuracy: 0.7003\n",
      "Epoch 51/100\n",
      "21/21 [==============================] - 0s 9ms/step - loss: 0.5891 - accuracy: 0.7870 - val_loss: 0.9909 - val_accuracy: 0.7178\n",
      "Epoch 52/100\n",
      "21/21 [==============================] - 0s 9ms/step - loss: 0.5419 - accuracy: 0.8219 - val_loss: 1.0977 - val_accuracy: 0.7178\n",
      "Epoch 53/100\n",
      "21/21 [==============================] - 0s 9ms/step - loss: 0.6025 - accuracy: 0.7723 - val_loss: 0.9872 - val_accuracy: 0.7003\n",
      "Epoch 54/100\n",
      "21/21 [==============================] - 0s 9ms/step - loss: 0.5510 - accuracy: 0.8040 - val_loss: 0.9468 - val_accuracy: 0.7422\n",
      "Epoch 55/100\n",
      "21/21 [==============================] - 0s 9ms/step - loss: 0.4790 - accuracy: 0.8383 - val_loss: 0.9363 - val_accuracy: 0.7387\n",
      "Epoch 56/100\n",
      "21/21 [==============================] - 0s 10ms/step - loss: 0.4685 - accuracy: 0.8522 - val_loss: 0.9571 - val_accuracy: 0.7108\n",
      "Epoch 57/100\n",
      "21/21 [==============================] - 0s 10ms/step - loss: 0.5285 - accuracy: 0.8165 - val_loss: 1.0469 - val_accuracy: 0.7143\n",
      "Epoch 58/100\n",
      "21/21 [==============================] - 0s 9ms/step - loss: 0.4722 - accuracy: 0.8378 - val_loss: 1.0247 - val_accuracy: 0.7003\n",
      "Epoch 59/100\n",
      "21/21 [==============================] - 0s 8ms/step - loss: 0.5565 - accuracy: 0.8191 - val_loss: 1.0090 - val_accuracy: 0.7282\n",
      "Epoch 60/100\n",
      "21/21 [==============================] - 0s 9ms/step - loss: 0.4517 - accuracy: 0.8262 - val_loss: 0.9039 - val_accuracy: 0.7422\n",
      "Epoch 61/100\n",
      "21/21 [==============================] - 0s 9ms/step - loss: 0.3494 - accuracy: 0.8892 - val_loss: 0.9924 - val_accuracy: 0.7143\n",
      "Epoch 62/100\n",
      "21/21 [==============================] - 0s 9ms/step - loss: 0.4486 - accuracy: 0.8537 - val_loss: 0.9406 - val_accuracy: 0.7352\n",
      "Epoch 63/100\n",
      "21/21 [==============================] - 0s 8ms/step - loss: 0.4366 - accuracy: 0.8357 - val_loss: 0.9784 - val_accuracy: 0.7073\n",
      "Epoch 64/100\n",
      "21/21 [==============================] - 0s 14ms/step - loss: 0.4084 - accuracy: 0.8453 - val_loss: 0.9659 - val_accuracy: 0.7422\n",
      "Epoch 65/100\n",
      "21/21 [==============================] - 0s 9ms/step - loss: 0.3826 - accuracy: 0.8593 - val_loss: 1.0349 - val_accuracy: 0.7282\n",
      "Epoch 66/100\n",
      "21/21 [==============================] - 0s 10ms/step - loss: 0.4195 - accuracy: 0.8617 - val_loss: 0.9659 - val_accuracy: 0.7317\n",
      "Epoch 67/100\n",
      "21/21 [==============================] - 0s 13ms/step - loss: 0.3916 - accuracy: 0.8617 - val_loss: 1.1616 - val_accuracy: 0.6899\n",
      "Epoch 68/100\n",
      "21/21 [==============================] - 0s 9ms/step - loss: 0.4799 - accuracy: 0.8611 - val_loss: 1.0520 - val_accuracy: 0.7003\n",
      "Epoch 69/100\n",
      "21/21 [==============================] - 0s 9ms/step - loss: 0.3646 - accuracy: 0.8833 - val_loss: 1.0842 - val_accuracy: 0.7178\n",
      "Epoch 70/100\n",
      "21/21 [==============================] - 0s 9ms/step - loss: 0.3969 - accuracy: 0.8653 - val_loss: 0.9868 - val_accuracy: 0.7352\n",
      "Epoch 71/100\n",
      "21/21 [==============================] - 0s 9ms/step - loss: 0.3187 - accuracy: 0.8950 - val_loss: 1.0777 - val_accuracy: 0.7213\n",
      "Epoch 72/100\n",
      "21/21 [==============================] - 0s 9ms/step - loss: 0.3043 - accuracy: 0.8738 - val_loss: 1.1762 - val_accuracy: 0.7213\n",
      "Epoch 73/100\n",
      "21/21 [==============================] - 0s 9ms/step - loss: 0.4027 - accuracy: 0.8662 - val_loss: 1.1112 - val_accuracy: 0.7282\n",
      "Epoch 74/100\n",
      "21/21 [==============================] - 0s 9ms/step - loss: 0.3330 - accuracy: 0.8793 - val_loss: 1.0193 - val_accuracy: 0.7387\n",
      "Epoch 75/100\n",
      "21/21 [==============================] - 0s 9ms/step - loss: 0.3000 - accuracy: 0.9091 - val_loss: 1.1322 - val_accuracy: 0.7143\n",
      "Epoch 76/100\n",
      "21/21 [==============================] - 0s 9ms/step - loss: 0.2949 - accuracy: 0.8961 - val_loss: 1.0181 - val_accuracy: 0.7526\n",
      "Epoch 77/100\n",
      "21/21 [==============================] - 0s 9ms/step - loss: 0.2844 - accuracy: 0.8897 - val_loss: 0.9871 - val_accuracy: 0.7422\n",
      "Epoch 78/100\n",
      "21/21 [==============================] - 0s 9ms/step - loss: 0.3077 - accuracy: 0.9045 - val_loss: 0.9729 - val_accuracy: 0.7352\n",
      "Epoch 79/100\n",
      "21/21 [==============================] - 0s 9ms/step - loss: 0.3123 - accuracy: 0.8906 - val_loss: 1.1071 - val_accuracy: 0.7317\n",
      "Epoch 80/100\n",
      "21/21 [==============================] - 0s 9ms/step - loss: 0.3021 - accuracy: 0.8980 - val_loss: 1.0240 - val_accuracy: 0.7456\n",
      "Epoch 81/100\n",
      "21/21 [==============================] - 0s 9ms/step - loss: 0.2270 - accuracy: 0.9266 - val_loss: 1.0345 - val_accuracy: 0.7526\n",
      "Epoch 82/100\n",
      "21/21 [==============================] - 0s 9ms/step - loss: 0.3279 - accuracy: 0.8970 - val_loss: 1.0152 - val_accuracy: 0.7422\n",
      "Epoch 83/100\n",
      "21/21 [==============================] - 0s 10ms/step - loss: 0.2585 - accuracy: 0.9230 - val_loss: 1.0493 - val_accuracy: 0.7422\n",
      "Epoch 84/100\n",
      "21/21 [==============================] - 0s 9ms/step - loss: 0.2174 - accuracy: 0.9346 - val_loss: 1.0666 - val_accuracy: 0.7247\n",
      "Epoch 85/100\n",
      "21/21 [==============================] - 0s 9ms/step - loss: 0.3175 - accuracy: 0.9047 - val_loss: 1.0942 - val_accuracy: 0.7247\n",
      "Epoch 86/100\n",
      "21/21 [==============================] - 0s 9ms/step - loss: 0.2244 - accuracy: 0.9181 - val_loss: 1.1311 - val_accuracy: 0.7143\n",
      "Epoch 87/100\n",
      "21/21 [==============================] - 0s 9ms/step - loss: 0.2845 - accuracy: 0.9088 - val_loss: 1.0859 - val_accuracy: 0.7352\n",
      "Epoch 88/100\n",
      "21/21 [==============================] - 0s 9ms/step - loss: 0.2220 - accuracy: 0.9180 - val_loss: 1.1858 - val_accuracy: 0.7282\n",
      "Epoch 89/100\n",
      "21/21 [==============================] - 0s 10ms/step - loss: 0.2203 - accuracy: 0.9223 - val_loss: 1.1398 - val_accuracy: 0.7282\n",
      "Epoch 90/100\n",
      "21/21 [==============================] - 0s 9ms/step - loss: 0.1748 - accuracy: 0.9524 - val_loss: 1.1419 - val_accuracy: 0.7387\n",
      "Epoch 91/100\n",
      "21/21 [==============================] - 0s 9ms/step - loss: 0.2927 - accuracy: 0.8949 - val_loss: 1.0685 - val_accuracy: 0.7108\n",
      "Epoch 92/100\n",
      "21/21 [==============================] - 0s 16ms/step - loss: 0.2779 - accuracy: 0.9059 - val_loss: 1.1414 - val_accuracy: 0.7213\n",
      "Epoch 93/100\n",
      "21/21 [==============================] - 0s 10ms/step - loss: 0.2597 - accuracy: 0.9255 - val_loss: 1.1765 - val_accuracy: 0.7247\n",
      "Epoch 94/100\n",
      "21/21 [==============================] - 0s 9ms/step - loss: 0.1787 - accuracy: 0.9401 - val_loss: 1.1620 - val_accuracy: 0.7387\n",
      "Epoch 95/100\n",
      "21/21 [==============================] - 0s 9ms/step - loss: 0.1949 - accuracy: 0.9266 - val_loss: 1.2309 - val_accuracy: 0.7526\n",
      "Epoch 96/100\n",
      "21/21 [==============================] - 0s 9ms/step - loss: 0.1977 - accuracy: 0.9376 - val_loss: 1.2214 - val_accuracy: 0.7422\n",
      "Epoch 97/100\n",
      "21/21 [==============================] - 0s 9ms/step - loss: 0.1804 - accuracy: 0.9253 - val_loss: 1.1394 - val_accuracy: 0.7422\n",
      "Epoch 98/100\n",
      "21/21 [==============================] - 0s 9ms/step - loss: 0.1967 - accuracy: 0.9417 - val_loss: 1.2516 - val_accuracy: 0.7387\n",
      "Epoch 99/100\n",
      "21/21 [==============================] - 0s 10ms/step - loss: 0.1444 - accuracy: 0.9494 - val_loss: 1.0958 - val_accuracy: 0.7387\n",
      "Epoch 100/100\n",
      "21/21 [==============================] - 0s 8ms/step - loss: 0.1823 - accuracy: 0.9476 - val_loss: 1.2236 - val_accuracy: 0.7491\n"
     ]
    }
   ],
   "source": [
    "history = model.fit(X_train, y_train, validation_data=(X_test, y_test), batch_size=32, epochs=100)"
   ]
  },
  {
   "cell_type": "code",
   "execution_count": 174,
   "metadata": {},
   "outputs": [
    {
     "name": "stdout",
     "output_type": "stream",
     "text": [
      "9/9 - 0s - loss: 1.2236 - accuracy: 0.7491\n"
     ]
    },
    {
     "data": {
      "image/png": "[encoded data removed]",
      "text/plain": [
       "<Figure size 432x288 with 1 Axes>"
      ]
     },
     "metadata": {
      "needs_background": "light"
     },
     "output_type": "display_data"
    }
   ],
   "source": [
    "plt.plot(history.history['accuracy'], label='accuracy')\n",
    "plt.plot(history.history['val_accuracy'], label = 'val_accuracy')\n",
    "plt.xlabel('Epoch')\n",
    "plt.ylabel('Accuracy')\n",
    "plt.ylim([0.2, 1])\n",
    "plt.legend(loc='lower right')\n",
    "\n",
    "test_loss, test_acc = model.evaluate(X_test,  y_test, verbose=2)"
   ]
  },
  {
   "cell_type": "code",
   "execution_count": 177,
   "metadata": {},
   "outputs": [
    {
     "name": "stdout",
     "output_type": "stream",
     "text": [
      "INFO:tensorflow:Assets written to: atom_cnn_model/assets\n"
     ]
    }
   ],
   "source": [
    "model.save('atom_cnn_model')"
   ]
  },
  {
   "cell_type": "code",
   "execution_count": 100,
   "metadata": {},
   "outputs": [],
   "source": [
    "# np.argmax(model.predict(X_test), axis = 1)"
   ]
  },
  {
   "cell_type": "code",
   "execution_count": 101,
   "metadata": {},
   "outputs": [],
   "source": [
    "# matrix = np.zeros((16,16))\n",
    "# for y in y_test:\n",
    "    "
   ]
  },
  {
   "cell_type": "code",
   "execution_count": 176,
   "metadata": {},
   "outputs": [
    {
     "data": {
      "text/plain": [
       "array([[22,  0,  0,  0,  1,  0,  0,  0,  0,  1,  4,  0,  1],\n",
       "       [ 1, 24,  0,  2,  1,  0,  1,  0,  0,  1,  2,  0,  0],\n",
       "       [ 0,  0, 22,  0,  2,  0,  3,  0,  0,  0,  0,  0,  0],\n",
       "       [ 0,  0,  1, 19,  0,  0,  3,  1,  0,  1,  1,  0,  0],\n",
       "       [ 2,  1,  3,  0, 12,  0,  0,  0,  0,  0,  0,  0,  0],\n",
       "       [ 4,  1,  0,  1,  0, 19,  0,  0,  0,  1,  0,  0,  0],\n",
       "       [ 0,  3,  2,  0,  2,  0, 17,  1,  0,  0,  0,  0,  0],\n",
       "       [ 0,  0,  2,  0,  0,  1,  1, 24,  0,  2,  1,  0,  0],\n",
       "       [ 1,  0,  0,  0,  0,  0,  0,  0, 11,  0,  2,  0,  1],\n",
       "       [ 0,  0,  0,  0,  0,  0,  1,  1,  0,  8,  3,  1,  0],\n",
       "       [ 0,  0,  0,  0,  0,  0,  0,  0,  1,  0, 16,  0,  0],\n",
       "       [ 0,  1,  0,  0,  0,  0,  0,  0,  1,  1,  2, 10,  0],\n",
       "       [ 0,  0,  0,  0,  0,  0,  1,  0,  0,  0,  0,  0, 11]])"
      ]
     },
     "execution_count": 176,
     "metadata": {},
     "output_type": "execute_result"
    }
   ],
   "source": [
    "from sklearn.metrics import confusion_matrix\n",
    "\n",
    "y_pred = np.argmax(model.predict(X_test), axis = 1)\n",
    "confusion_matrix(y_test, y_pred)"
   ]
  },
  {
   "cell_type": "code",
   "execution_count": null,
   "metadata": {},
   "outputs": [],
   "source": []
  },
  {
   "cell_type": "code",
   "execution_count": null,
   "metadata": {},
   "outputs": [],
   "source": []
  }
 ],
 "metadata": {
  "kernelspec": {
   "display_name": "Python 3",
   "language": "python",
   "name": "python3"
  },
  "language_info": {
   "codemirror_mode": {
    "name": "ipython",
    "version": 3
   },
   "file_extension": ".py",
   "mimetype": "text/x-python",
   "name": "python",
   "nbconvert_exporter": "python",
   "pygments_lexer": "ipython3",
   "version": "3.7.3"
  }
 },
 "nbformat": 4,
 "nbformat_minor": 2
}
