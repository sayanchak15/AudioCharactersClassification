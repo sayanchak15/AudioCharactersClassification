{
 "cells": [
  {
   "cell_type": "code",
   "execution_count": 1,
   "metadata": {},
   "outputs": [
    {
     "name": "stderr",
     "output_type": "stream",
     "text": [
      "/Users/aiudd75/anaconda3/lib/python3.7/site-packages/tqdm/autonotebook/__init__.py:14: TqdmExperimentalWarning: Using `tqdm.autonotebook.tqdm` in notebook mode. Use `tqdm.tqdm` instead to force console mode (e.g. in jupyter console)\n",
      "  \" (e.g. in jupyter console)\", TqdmExperimentalWarning)\n"
     ]
    }
   ],
   "source": [
    "import librosa\n",
    "import librosa.display\n",
    "import matplotlib.pyplot as plt\n",
    "import numpy as np\n",
    "import IPython.display as ipd\n",
    "import noisereduce as nr \n",
    "from tqdm import tqdm\n",
    "import os\n",
    "from sklearn.model_selection import train_test_split\n",
    "import tensorflow.keras as keras"
   ]
  },
  {
   "cell_type": "code",
   "execution_count": 2,
   "metadata": {},
   "outputs": [
    {
     "name": "stdout",
     "output_type": "stream",
     "text": [
      "1368\n"
     ]
    }
   ],
   "source": [
    "# label_code = ['A','B','C','D','E', 'F', 'G','H','I','J','K','L','M']\n",
    "# y = [0,1,2,3,4,5,6,7,8,9,10,11,12]\n",
    "label_code = ['A','B','C','D','E', 'F', 'G','H','I','J','K','L','M','N','O','P','Q','R','S','T','U','V','W','X','Y','Z']\n",
    "y = [0,1,2,3,4,5,6,7,8,9,10,11,12,13,14,15,16,17,18,19,20,21,22,23,24,25]\n",
    "folder = 'audio/baba'\n",
    "count = 0\n",
    "for l in label_code:\n",
    "    directory = folder+'/'+l+'/small'\n",
    "    for filename in os.listdir(directory):\n",
    "        if filename.endswith(\".wav\"): \n",
    "            count +=1\n",
    "print(count)"
   ]
  },
  {
   "cell_type": "code",
   "execution_count": 3,
   "metadata": {},
   "outputs": [],
   "source": [
    "n_fft = 2048\n",
    "hop_length = 512"
   ]
  },
  {
   "cell_type": "code",
   "execution_count": 4,
   "metadata": {},
   "outputs": [],
   "source": [
    "data = []\n",
    "label = []\n",
    "i = 0\n",
    "MFCC = []\n",
    "for idx, l in enumerate(label_code):\n",
    "    directory = folder+'/'+l+'/small'\n",
    "    for filename in os.listdir(directory):\n",
    "        if filename.endswith(\".wav\"): \n",
    "            file = os.path.join(directory, filename)\n",
    "            x, _ = librosa.load(file, sr=22050) # sr * T = 22050 * 2(sec)\n",
    "            if x.shape == (10000,):\n",
    "                mfcc = librosa.feature.mfcc(x, n_fft = n_fft, hop_length= hop_length, n_mfcc= 13 )\n",
    "                MFCC.append(mfcc)  \n",
    "#                 print(idx, y, y[idx])\n",
    "                label.append(y[idx])\n",
    "                i +=1\n",
    "            else: continue\n",
    "        else:\n",
    "            continue"
   ]
  },
  {
   "cell_type": "code",
   "execution_count": 5,
   "metadata": {},
   "outputs": [
    {
     "data": {
      "text/plain": [
       "((1353, 13, 20), (1353,))"
      ]
     },
     "execution_count": 5,
     "metadata": {},
     "output_type": "execute_result"
    }
   ],
   "source": [
    "X = np.array(MFCC)\n",
    "y = np.array(label)\n",
    "# for i in range(len(MFCC)):\n",
    "#     print(MFCC[i].shape)\n",
    "X.shape, y.shape"
   ]
  },
  {
   "cell_type": "code",
   "execution_count": 6,
   "metadata": {},
   "outputs": [
    {
     "data": {
      "text/plain": [
       "(1353, 13, 20, 1)"
      ]
     },
     "execution_count": 6,
     "metadata": {},
     "output_type": "execute_result"
    }
   ],
   "source": [
    "X = X.reshape(-1,13,20,1)\n",
    "X.shape"
   ]
  },
  {
   "cell_type": "code",
   "execution_count": 7,
   "metadata": {},
   "outputs": [],
   "source": [
    "X_train, X_test, y_train, y_test = train_test_split(X, y, test_size=0.3)"
   ]
  },
  {
   "cell_type": "code",
   "execution_count": 8,
   "metadata": {},
   "outputs": [
    {
     "data": {
      "text/plain": [
       "array([18,  2,  9,  2,  1,  9,  3,  0, 11,  5,  6, 10,  5, 11,  6, 18,  7,\n",
       "       10, 19,  5, 18, 17, 12,  4, 11,  7,  4,  7, 15, 15,  4,  5,  9,  1,\n",
       "        1, 25, 11, 18,  6, 18, 17, 19,  6, 21,  7, 12, 22,  1,  4,  1,  6,\n",
       "        4,  1,  7,  6,  3,  2,  9,  2,  3,  0,  0, 10,  3,  4,  6,  1, 11,\n",
       "       18, 11, 11, 15,  1,  1,  7, 10, 20,  2,  5,  0, 17,  1, 18,  1,  0,\n",
       "        6,  8, 12, 22,  1, 23,  1,  2,  1,  4, 25, 23,  4,  5, 12,  2,  1,\n",
       "       15, 22, 17, 20, 12,  0, 12, 18,  6, 18,  1,  3,  4,  7,  6, 15,  1,\n",
       "        6,  3, 17, 22, 15, 18, 18,  7, 18, 12,  9,  6, 13,  1,  0,  2,  8,\n",
       "       20, 18,  7,  1, 19, 10,  6,  3,  1,  8,  6, 18,  9, 11, 22,  7, 20,\n",
       "       11,  1, 22, 12,  2,  3,  8,  0, 12,  0,  0,  0,  2, 24,  2,  4,  5,\n",
       "        4,  7, 11,  6, 21, 11,  1,  8,  5,  3, 10, 10,  3, 10,  7, 14,  7,\n",
       "       18, 17, 21,  6, 17, 15,  3,  6, 13,  0, 12, 25, 24,  1,  0,  3,  5,\n",
       "        0,  8,  3,  6,  0,  3,  0,  2, 18, 21,  4,  6, 12,  1,  1, 10,  1,\n",
       "        4,  5, 14,  7,  1,  6,  6,  2,  0, 11,  2,  5,  7,  8, 19, 21,  1,\n",
       "       19,  7, 11, 17,  2, 12, 18,  4,  3,  3,  6,  2,  3,  3,  6,  9, 21,\n",
       "       20,  6,  3,  4,  7, 12,  1, 17,  0, 11, 17, 10, 23, 18, 18,  7, 10,\n",
       "        2,  6,  3,  2,  1, 18, 19,  3,  7, 10, 17,  7,  0, 16, 18, 22,  6,\n",
       "        4,  1,  9, 16, 11,  2,  5, 11,  3,  8,  3,  4,  2, 18,  6,  3,  2,\n",
       "        5,  7, 15, 11, 10, 24,  3, 18, 10,  6,  2,  2, 12,  2,  2,  0,  5,\n",
       "        7,  9, 10,  1,  4, 12,  2, 12,  0,  9,  5, 10,  0,  9,  2, 12,  8,\n",
       "        2,  4,  0, 12,  7, 12, 25,  7,  7,  1,  6, 18,  0,  7,  6,  7,  1,\n",
       "        7, 16,  3,  2,  5,  9, 25, 19, 10,  4,  2,  3, 18,  5, 14, 10,  9,\n",
       "        6,  1,  3,  6, 17,  2, 10,  5,  2,  7, 23,  0, 17,  9, 15,  3,  9,\n",
       "        2,  7,  6,  1,  5, 19, 16,  5, 24, 15, 17,  2,  7,  1, 10])"
      ]
     },
     "execution_count": 8,
     "metadata": {},
     "output_type": "execute_result"
    }
   ],
   "source": [
    "y_test"
   ]
  },
  {
   "cell_type": "code",
   "execution_count": 9,
   "metadata": {},
   "outputs": [
    {
     "data": {
      "text/plain": [
       "(13, 20, 1)"
      ]
     },
     "execution_count": 9,
     "metadata": {},
     "output_type": "execute_result"
    }
   ],
   "source": [
    "X_train[0].shape"
   ]
  },
  {
   "cell_type": "code",
   "execution_count": 10,
   "metadata": {
    "scrolled": true
   },
   "outputs": [],
   "source": [
    "# librosa.display.specshow(X_train[0], sr = 22050, hop_length=hop_length)\n",
    "# plt.xlabel('Time')\n",
    "# plt.ylabel('MFCC')"
   ]
  },
  {
   "cell_type": "code",
   "execution_count": 16,
   "metadata": {},
   "outputs": [],
   "source": [
    "model = keras.Sequential([\n",
    "        keras.layers.Conv2D(32, (2, 2), activation='relu', input_shape=(X.shape[1], X.shape[2],1)),\n",
    "        keras.layers.MaxPooling2D((2, 2)),\n",
    "        keras.layers.Dropout(0.2),\n",
    "        keras.layers.Conv2D(64, (2, 2), activation='relu'),\n",
    "        keras.layers.MaxPooling2D((2, 2)),\n",
    "        keras.layers.Dropout(0.2),\n",
    "        # input layer\n",
    "        keras.layers.Flatten(),\n",
    "\n",
    "        # 1st dense layer\n",
    "        keras.layers.Dense(512, activation='relu'),\n",
    "        keras.layers.Dropout(0.2),\n",
    "\n",
    "        # 2nd dense layer\n",
    "        keras.layers.Dense(256, activation='relu'),\n",
    "        keras.layers.Dropout(0.2),\n",
    "\n",
    "        # 3rd dense layer\n",
    "        keras.layers.Dense(64, activation='relu'),\n",
    "\n",
    "        # output layer\n",
    "        keras.layers.Dense(26, activation='softmax')\n",
    "    ])\n",
    "\n",
    "    # compile model\n",
    "optimiser = keras.optimizers.Adam(learning_rate=0.001)\n",
    "model.compile(optimizer=optimiser,\n",
    "                  loss='sparse_categorical_crossentropy',\n",
    "                  metrics=['accuracy'])\n",
    "\n",
    "# model.summary()"
   ]
  },
  {
   "cell_type": "code",
   "execution_count": 17,
   "metadata": {},
   "outputs": [
    {
     "name": "stdout",
     "output_type": "stream",
     "text": [
      "Epoch 1/100\n",
      "60/60 [==============================] - 1s 8ms/step - loss: 7.4624 - accuracy: 0.0661 - val_loss: 3.2157 - val_accuracy: 0.0591\n",
      "Epoch 2/100\n",
      "60/60 [==============================] - 0s 5ms/step - loss: 3.2586 - accuracy: 0.0570 - val_loss: 3.0619 - val_accuracy: 0.1158\n",
      "Epoch 3/100\n",
      "60/60 [==============================] - 0s 5ms/step - loss: 3.1456 - accuracy: 0.1216 - val_loss: 3.0016 - val_accuracy: 0.1059\n",
      "Epoch 4/100\n",
      "60/60 [==============================] - 0s 7ms/step - loss: 2.9529 - accuracy: 0.1295 - val_loss: 2.8943 - val_accuracy: 0.1749\n",
      "Epoch 5/100\n",
      "60/60 [==============================] - 0s 5ms/step - loss: 2.8246 - accuracy: 0.1730 - val_loss: 2.7283 - val_accuracy: 0.2291\n",
      "Epoch 6/100\n",
      "60/60 [==============================] - 0s 5ms/step - loss: 2.7556 - accuracy: 0.1942 - val_loss: 2.6953 - val_accuracy: 0.1847\n",
      "Epoch 7/100\n",
      "60/60 [==============================] - 0s 5ms/step - loss: 2.4809 - accuracy: 0.2564 - val_loss: 2.5192 - val_accuracy: 0.3227\n",
      "Epoch 8/100\n",
      "60/60 [==============================] - 0s 5ms/step - loss: 2.4466 - accuracy: 0.2609 - val_loss: 2.4318 - val_accuracy: 0.2759\n",
      "Epoch 9/100\n",
      "60/60 [==============================] - 0s 5ms/step - loss: 2.2590 - accuracy: 0.2862 - val_loss: 2.3399 - val_accuracy: 0.3424\n",
      "Epoch 10/100\n",
      "60/60 [==============================] - 0s 5ms/step - loss: 2.1144 - accuracy: 0.3569 - val_loss: 2.2250 - val_accuracy: 0.3448\n",
      "Epoch 11/100\n",
      "60/60 [==============================] - 0s 5ms/step - loss: 2.0354 - accuracy: 0.3594 - val_loss: 2.0042 - val_accuracy: 0.4113\n",
      "Epoch 12/100\n",
      "60/60 [==============================] - 0s 5ms/step - loss: 1.8915 - accuracy: 0.3904 - val_loss: 1.9937 - val_accuracy: 0.4064\n",
      "Epoch 13/100\n",
      "60/60 [==============================] - 0s 5ms/step - loss: 1.7893 - accuracy: 0.4200 - val_loss: 1.8973 - val_accuracy: 0.4236\n",
      "Epoch 14/100\n",
      "60/60 [==============================] - 0s 5ms/step - loss: 1.8051 - accuracy: 0.4276 - val_loss: 1.8161 - val_accuracy: 0.4631\n",
      "Epoch 15/100\n",
      "60/60 [==============================] - 0s 5ms/step - loss: 1.6641 - accuracy: 0.4630 - val_loss: 1.7766 - val_accuracy: 0.4655\n",
      "Epoch 16/100\n",
      "60/60 [==============================] - 0s 5ms/step - loss: 1.6607 - accuracy: 0.4654 - val_loss: 1.6813 - val_accuracy: 0.4655\n",
      "Epoch 17/100\n",
      "60/60 [==============================] - 0s 5ms/step - loss: 1.4466 - accuracy: 0.5175 - val_loss: 1.6641 - val_accuracy: 0.4877\n",
      "Epoch 18/100\n",
      "60/60 [==============================] - 0s 5ms/step - loss: 1.4469 - accuracy: 0.5223 - val_loss: 1.6464 - val_accuracy: 0.4877\n",
      "Epoch 19/100\n",
      "60/60 [==============================] - 0s 5ms/step - loss: 1.3554 - accuracy: 0.5604 - val_loss: 1.6264 - val_accuracy: 0.4951\n",
      "Epoch 20/100\n",
      "60/60 [==============================] - 0s 5ms/step - loss: 1.2754 - accuracy: 0.5543 - val_loss: 1.5841 - val_accuracy: 0.5099\n",
      "Epoch 21/100\n",
      "60/60 [==============================] - 0s 5ms/step - loss: 1.2613 - accuracy: 0.5769 - val_loss: 1.5003 - val_accuracy: 0.5542\n",
      "Epoch 22/100\n",
      "60/60 [==============================] - 0s 5ms/step - loss: 1.1669 - accuracy: 0.6510 - val_loss: 1.5186 - val_accuracy: 0.5542\n",
      "Epoch 23/100\n",
      "60/60 [==============================] - 0s 7ms/step - loss: 1.1565 - accuracy: 0.6136 - val_loss: 1.5441 - val_accuracy: 0.5197\n",
      "Epoch 24/100\n",
      "60/60 [==============================] - 0s 5ms/step - loss: 1.1367 - accuracy: 0.6174 - val_loss: 1.4429 - val_accuracy: 0.5394\n",
      "Epoch 25/100\n",
      "60/60 [==============================] - 0s 5ms/step - loss: 1.1081 - accuracy: 0.6399 - val_loss: 1.4994 - val_accuracy: 0.5517\n",
      "Epoch 26/100\n",
      "60/60 [==============================] - 0s 5ms/step - loss: 1.0755 - accuracy: 0.6288 - val_loss: 1.4126 - val_accuracy: 0.6034\n",
      "Epoch 27/100\n",
      "60/60 [==============================] - 0s 6ms/step - loss: 1.0164 - accuracy: 0.6626 - val_loss: 1.3793 - val_accuracy: 0.5961\n",
      "Epoch 28/100\n",
      "60/60 [==============================] - 0s 5ms/step - loss: 0.9173 - accuracy: 0.7035 - val_loss: 1.4305 - val_accuracy: 0.5640\n",
      "Epoch 29/100\n",
      "60/60 [==============================] - 0s 5ms/step - loss: 0.9471 - accuracy: 0.6999 - val_loss: 1.5001 - val_accuracy: 0.5739\n",
      "Epoch 30/100\n",
      "60/60 [==============================] - 0s 5ms/step - loss: 0.8997 - accuracy: 0.6979 - val_loss: 1.4102 - val_accuracy: 0.5813\n",
      "Epoch 31/100\n",
      "60/60 [==============================] - 0s 5ms/step - loss: 0.8635 - accuracy: 0.7199 - val_loss: 1.4271 - val_accuracy: 0.5739\n",
      "Epoch 32/100\n",
      "60/60 [==============================] - 0s 5ms/step - loss: 0.9000 - accuracy: 0.7196 - val_loss: 1.4213 - val_accuracy: 0.5887\n",
      "Epoch 33/100\n",
      "60/60 [==============================] - 0s 5ms/step - loss: 0.8650 - accuracy: 0.6977 - val_loss: 1.4280 - val_accuracy: 0.6232\n",
      "Epoch 34/100\n",
      "60/60 [==============================] - 0s 5ms/step - loss: 0.7461 - accuracy: 0.7558 - val_loss: 1.4116 - val_accuracy: 0.6158\n",
      "Epoch 35/100\n",
      "60/60 [==============================] - 0s 5ms/step - loss: 0.8127 - accuracy: 0.7095 - val_loss: 1.4658 - val_accuracy: 0.5911\n",
      "Epoch 36/100\n",
      "60/60 [==============================] - 0s 5ms/step - loss: 0.5979 - accuracy: 0.7949 - val_loss: 1.5224 - val_accuracy: 0.5985\n",
      "Epoch 37/100\n",
      "60/60 [==============================] - 0s 5ms/step - loss: 0.6726 - accuracy: 0.7534 - val_loss: 1.3990 - val_accuracy: 0.6034\n",
      "Epoch 38/100\n",
      "60/60 [==============================] - 0s 5ms/step - loss: 0.7316 - accuracy: 0.7398 - val_loss: 1.4024 - val_accuracy: 0.6010\n",
      "Epoch 39/100\n",
      "60/60 [==============================] - 0s 5ms/step - loss: 0.6816 - accuracy: 0.7928 - val_loss: 1.5598 - val_accuracy: 0.5961\n",
      "Epoch 40/100\n",
      "60/60 [==============================] - 0s 5ms/step - loss: 0.6338 - accuracy: 0.7829 - val_loss: 1.4485 - val_accuracy: 0.6182\n",
      "Epoch 41/100\n",
      "60/60 [==============================] - 0s 7ms/step - loss: 0.5740 - accuracy: 0.8107 - val_loss: 1.3935 - val_accuracy: 0.6330\n",
      "Epoch 42/100\n",
      "60/60 [==============================] - 0s 5ms/step - loss: 0.5599 - accuracy: 0.8107 - val_loss: 1.3538 - val_accuracy: 0.6453\n",
      "Epoch 43/100\n",
      "60/60 [==============================] - 0s 5ms/step - loss: 0.5620 - accuracy: 0.8258 - val_loss: 1.4460 - val_accuracy: 0.6330\n",
      "Epoch 44/100\n",
      "60/60 [==============================] - 0s 5ms/step - loss: 0.5809 - accuracy: 0.7998 - val_loss: 1.4985 - val_accuracy: 0.6232\n",
      "Epoch 45/100\n",
      "60/60 [==============================] - 0s 5ms/step - loss: 0.5998 - accuracy: 0.7979 - val_loss: 1.4363 - val_accuracy: 0.6281\n",
      "Epoch 46/100\n",
      "60/60 [==============================] - 0s 5ms/step - loss: 0.5470 - accuracy: 0.8377 - val_loss: 1.5114 - val_accuracy: 0.6552\n",
      "Epoch 47/100\n",
      "60/60 [==============================] - 0s 5ms/step - loss: 0.4734 - accuracy: 0.8484 - val_loss: 1.5783 - val_accuracy: 0.6034\n",
      "Epoch 48/100\n",
      "60/60 [==============================] - 0s 5ms/step - loss: 0.5298 - accuracy: 0.8350 - val_loss: 1.4650 - val_accuracy: 0.6355\n",
      "Epoch 49/100\n",
      "60/60 [==============================] - 0s 5ms/step - loss: 0.5000 - accuracy: 0.8289 - val_loss: 1.4978 - val_accuracy: 0.6182\n",
      "Epoch 50/100\n",
      "60/60 [==============================] - 0s 5ms/step - loss: 0.5616 - accuracy: 0.8150 - val_loss: 1.4356 - val_accuracy: 0.6453\n",
      "Epoch 51/100\n",
      "60/60 [==============================] - 0s 5ms/step - loss: 0.4942 - accuracy: 0.8363 - val_loss: 1.5189 - val_accuracy: 0.6502\n",
      "Epoch 52/100\n",
      "60/60 [==============================] - 0s 5ms/step - loss: 0.4208 - accuracy: 0.8696 - val_loss: 1.5436 - val_accuracy: 0.6453\n",
      "Epoch 53/100\n",
      "60/60 [==============================] - 0s 5ms/step - loss: 0.4777 - accuracy: 0.8456 - val_loss: 1.3810 - val_accuracy: 0.6453\n",
      "Epoch 54/100\n",
      "60/60 [==============================] - 0s 5ms/step - loss: 0.3720 - accuracy: 0.8846 - val_loss: 1.5181 - val_accuracy: 0.6798\n",
      "Epoch 55/100\n",
      "60/60 [==============================] - 0s 5ms/step - loss: 0.3666 - accuracy: 0.8782 - val_loss: 1.5364 - val_accuracy: 0.6552\n",
      "Epoch 56/100\n",
      "60/60 [==============================] - 0s 5ms/step - loss: 0.4650 - accuracy: 0.8762 - val_loss: 1.5087 - val_accuracy: 0.6502\n",
      "Epoch 57/100\n",
      "60/60 [==============================] - 0s 7ms/step - loss: 0.3992 - accuracy: 0.8755 - val_loss: 1.5062 - val_accuracy: 0.6330\n",
      "Epoch 58/100\n",
      "60/60 [==============================] - 0s 5ms/step - loss: 0.3601 - accuracy: 0.8822 - val_loss: 1.6422 - val_accuracy: 0.6207\n"
     ]
    },
    {
     "name": "stdout",
     "output_type": "stream",
     "text": [
      "Epoch 59/100\n",
      "60/60 [==============================] - 0s 5ms/step - loss: 0.5069 - accuracy: 0.8221 - val_loss: 1.5568 - val_accuracy: 0.6281\n",
      "Epoch 60/100\n",
      "60/60 [==============================] - 0s 5ms/step - loss: 0.3721 - accuracy: 0.8903 - val_loss: 1.5883 - val_accuracy: 0.6330\n",
      "Epoch 61/100\n",
      "60/60 [==============================] - 0s 5ms/step - loss: 0.3148 - accuracy: 0.8867 - val_loss: 1.5832 - val_accuracy: 0.6798\n",
      "Epoch 62/100\n",
      "60/60 [==============================] - 0s 5ms/step - loss: 0.4043 - accuracy: 0.8686 - val_loss: 1.5505 - val_accuracy: 0.6478\n",
      "Epoch 63/100\n",
      "60/60 [==============================] - 0s 5ms/step - loss: 0.3554 - accuracy: 0.8754 - val_loss: 1.4771 - val_accuracy: 0.6552\n",
      "Epoch 64/100\n",
      "60/60 [==============================] - 0s 5ms/step - loss: 0.3839 - accuracy: 0.8863 - val_loss: 1.5779 - val_accuracy: 0.6478\n",
      "Epoch 65/100\n",
      "60/60 [==============================] - 0s 5ms/step - loss: 0.2789 - accuracy: 0.9125 - val_loss: 1.5443 - val_accuracy: 0.6478\n",
      "Epoch 66/100\n",
      "60/60 [==============================] - 0s 5ms/step - loss: 0.3235 - accuracy: 0.9019 - val_loss: 1.4778 - val_accuracy: 0.6650\n",
      "Epoch 67/100\n",
      "60/60 [==============================] - 0s 5ms/step - loss: 0.3543 - accuracy: 0.8841 - val_loss: 1.6319 - val_accuracy: 0.6601\n",
      "Epoch 68/100\n",
      "60/60 [==============================] - 0s 5ms/step - loss: 0.2886 - accuracy: 0.9037 - val_loss: 1.5779 - val_accuracy: 0.6700\n",
      "Epoch 69/100\n",
      "60/60 [==============================] - 0s 5ms/step - loss: 0.3179 - accuracy: 0.9056 - val_loss: 1.3523 - val_accuracy: 0.6970\n",
      "Epoch 70/100\n",
      "60/60 [==============================] - 0s 5ms/step - loss: 0.2555 - accuracy: 0.9202 - val_loss: 1.4301 - val_accuracy: 0.6552\n",
      "Epoch 71/100\n",
      "60/60 [==============================] - 0s 5ms/step - loss: 0.3138 - accuracy: 0.9058 - val_loss: 1.4562 - val_accuracy: 0.6700\n",
      "Epoch 72/100\n",
      "60/60 [==============================] - 0s 5ms/step - loss: 0.3050 - accuracy: 0.9136 - val_loss: 1.5130 - val_accuracy: 0.6429\n",
      "Epoch 73/100\n",
      "60/60 [==============================] - 0s 6ms/step - loss: 0.2577 - accuracy: 0.9217 - val_loss: 1.5568 - val_accuracy: 0.6478\n",
      "Epoch 74/100\n",
      "60/60 [==============================] - 0s 6ms/step - loss: 0.2363 - accuracy: 0.9136 - val_loss: 1.5226 - val_accuracy: 0.6724\n",
      "Epoch 75/100\n",
      "60/60 [==============================] - 0s 5ms/step - loss: 0.2879 - accuracy: 0.9112 - val_loss: 1.7035 - val_accuracy: 0.6675\n",
      "Epoch 76/100\n",
      "60/60 [==============================] - 0s 5ms/step - loss: 0.2506 - accuracy: 0.9169 - val_loss: 1.5463 - val_accuracy: 0.6700\n",
      "Epoch 77/100\n",
      "60/60 [==============================] - 0s 5ms/step - loss: 0.3813 - accuracy: 0.8769 - val_loss: 1.6049 - val_accuracy: 0.6576\n",
      "Epoch 78/100\n",
      "60/60 [==============================] - 0s 5ms/step - loss: 0.2239 - accuracy: 0.9324 - val_loss: 1.6613 - val_accuracy: 0.6626\n",
      "Epoch 79/100\n",
      "60/60 [==============================] - 0s 7ms/step - loss: 0.2451 - accuracy: 0.9298 - val_loss: 1.6232 - val_accuracy: 0.6700\n",
      "Epoch 80/100\n",
      "60/60 [==============================] - 0s 5ms/step - loss: 0.2027 - accuracy: 0.9380 - val_loss: 1.7225 - val_accuracy: 0.6626\n",
      "Epoch 81/100\n",
      "60/60 [==============================] - 0s 5ms/step - loss: 0.2270 - accuracy: 0.9247 - val_loss: 1.6285 - val_accuracy: 0.6576\n",
      "Epoch 82/100\n",
      "60/60 [==============================] - 0s 5ms/step - loss: 0.2658 - accuracy: 0.9305 - val_loss: 1.5084 - val_accuracy: 0.6823\n",
      "Epoch 83/100\n",
      "60/60 [==============================] - 0s 5ms/step - loss: 0.2893 - accuracy: 0.9001 - val_loss: 1.5721 - val_accuracy: 0.6749\n",
      "Epoch 84/100\n",
      "60/60 [==============================] - 0s 5ms/step - loss: 0.1983 - accuracy: 0.9386 - val_loss: 1.5907 - val_accuracy: 0.6897\n",
      "Epoch 85/100\n",
      "60/60 [==============================] - 0s 5ms/step - loss: 0.3337 - accuracy: 0.9229 - val_loss: 1.5231 - val_accuracy: 0.6823\n",
      "Epoch 86/100\n",
      "60/60 [==============================] - 0s 5ms/step - loss: 0.2762 - accuracy: 0.9309 - val_loss: 1.6858 - val_accuracy: 0.6650\n",
      "Epoch 87/100\n",
      "60/60 [==============================] - 0s 5ms/step - loss: 0.3377 - accuracy: 0.8892 - val_loss: 1.4591 - val_accuracy: 0.6847\n",
      "Epoch 88/100\n",
      "60/60 [==============================] - 0s 5ms/step - loss: 0.1901 - accuracy: 0.9376 - val_loss: 1.5763 - val_accuracy: 0.6823\n",
      "Epoch 89/100\n",
      "60/60 [==============================] - 0s 5ms/step - loss: 0.1751 - accuracy: 0.9474 - val_loss: 1.5776 - val_accuracy: 0.6798\n",
      "Epoch 90/100\n",
      "60/60 [==============================] - 0s 5ms/step - loss: 0.2166 - accuracy: 0.9276 - val_loss: 1.6792 - val_accuracy: 0.6576\n",
      "Epoch 91/100\n",
      "60/60 [==============================] - 0s 5ms/step - loss: 0.2400 - accuracy: 0.9314 - val_loss: 1.6722 - val_accuracy: 0.6749\n",
      "Epoch 92/100\n",
      "60/60 [==============================] - 0s 5ms/step - loss: 0.2487 - accuracy: 0.9315 - val_loss: 1.4427 - val_accuracy: 0.6946\n",
      "Epoch 93/100\n",
      "60/60 [==============================] - 0s 5ms/step - loss: 0.1683 - accuracy: 0.9422 - val_loss: 1.5740 - val_accuracy: 0.6872\n",
      "Epoch 94/100\n",
      "60/60 [==============================] - 0s 5ms/step - loss: 0.1564 - accuracy: 0.9555 - val_loss: 1.8818 - val_accuracy: 0.6453\n",
      "Epoch 95/100\n",
      "60/60 [==============================] - 0s 5ms/step - loss: 0.2636 - accuracy: 0.9228 - val_loss: 1.7076 - val_accuracy: 0.6576\n",
      "Epoch 96/100\n",
      "60/60 [==============================] - 0s 5ms/step - loss: 0.2417 - accuracy: 0.9296 - val_loss: 1.5572 - val_accuracy: 0.6773\n",
      "Epoch 97/100\n",
      "60/60 [==============================] - 0s 5ms/step - loss: 0.2258 - accuracy: 0.9333 - val_loss: 1.6535 - val_accuracy: 0.6946\n",
      "Epoch 98/100\n",
      "60/60 [==============================] - 0s 5ms/step - loss: 0.1590 - accuracy: 0.9545 - val_loss: 1.7019 - val_accuracy: 0.6823\n",
      "Epoch 99/100\n",
      "60/60 [==============================] - 0s 7ms/step - loss: 0.2361 - accuracy: 0.9283 - val_loss: 1.5967 - val_accuracy: 0.6576\n",
      "Epoch 100/100\n",
      "60/60 [==============================] - 0s 5ms/step - loss: 0.1582 - accuracy: 0.9593 - val_loss: 1.7252 - val_accuracy: 0.6626\n"
     ]
    }
   ],
   "source": [
    "history = model.fit(X_train, y_train, validation_data=(X_test, y_test), batch_size=16, epochs=100)"
   ]
  },
  {
   "cell_type": "code",
   "execution_count": 18,
   "metadata": {},
   "outputs": [
    {
     "name": "stdout",
     "output_type": "stream",
     "text": [
      "13/13 - 0s - loss: 1.7252 - accuracy: 0.6626\n"
     ]
    },
    {
     "data": {
      "image/png": "[encoded data removed]",
      "text/plain": [
       "<Figure size 432x288 with 1 Axes>"
      ]
     },
     "metadata": {
      "needs_background": "light"
     },
     "output_type": "display_data"
    }
   ],
   "source": [
    "plt.plot(history.history['accuracy'], label='accuracy')\n",
    "plt.plot(history.history['val_accuracy'], label = 'val_accuracy')\n",
    "plt.xlabel('Epoch')\n",
    "plt.ylabel('Accuracy')\n",
    "plt.ylim([0.2, 1])\n",
    "plt.legend(loc='lower right')\n",
    "\n",
    "test_loss, test_acc = model.evaluate(X_test,  y_test, verbose=2)"
   ]
  },
  {
   "cell_type": "code",
   "execution_count": 19,
   "metadata": {},
   "outputs": [
    {
     "name": "stdout",
     "output_type": "stream",
     "text": [
      "INFO:tensorflow:Assets written to: atoz_cnn_model/assets\n"
     ]
    }
   ],
   "source": [
    "model.save('atoz_cnn_model')"
   ]
  },
  {
   "cell_type": "code",
   "execution_count": 100,
   "metadata": {},
   "outputs": [],
   "source": [
    "# np.argmax(model.predict(X_test), axis = 1)"
   ]
  },
  {
   "cell_type": "code",
   "execution_count": 101,
   "metadata": {},
   "outputs": [],
   "source": [
    "# matrix = np.zeros((16,16))\n",
    "# for y in y_test:\n",
    "    "
   ]
  },
  {
   "cell_type": "code",
   "execution_count": 20,
   "metadata": {},
   "outputs": [
    {
     "data": {
      "text/plain": [
       "array([[14,  0,  1,  0,  2,  0,  1,  0,  0,  1,  1,  1,  0,  1,  0,  0,\n",
       "         0,  0,  3,  0,  0,  0,  0,  0,  0,  0],\n",
       "       [ 0, 21,  2,  5,  1,  0,  1,  1,  0,  1,  0,  0,  0,  0,  0,  0,\n",
       "         1,  0,  1,  3,  0,  0,  0,  0,  0,  0],\n",
       "       [ 0,  3, 19,  1,  2,  0,  5,  1,  0,  1,  0,  0,  0,  0,  0,  0,\n",
       "         0,  0,  0,  2,  0,  0,  0,  0,  0,  0],\n",
       "       [ 0,  4,  0, 21,  1,  0,  1,  1,  0,  0,  1,  0,  0,  0,  0,  0,\n",
       "         0,  0,  0,  0,  0,  0,  0,  0,  0,  0],\n",
       "       [ 0,  1,  0,  1, 14,  1,  2,  0,  0,  1,  0,  0,  0,  0,  0,  0,\n",
       "         0,  0,  0,  0,  0,  0,  0,  0,  0,  0],\n",
       "       [ 0,  1,  0,  0,  0, 16,  0,  0,  0,  0,  1,  0,  0,  0,  0,  0,\n",
       "         0,  0,  1,  0,  0,  0,  0,  0,  1,  0],\n",
       "       [ 0,  2,  1,  1,  1,  0, 21,  3,  0,  1,  0,  1,  0,  0,  0,  2,\n",
       "         0,  0,  0,  0,  0,  0,  0,  0,  0,  0],\n",
       "       [ 1,  0,  0,  0,  0,  0,  1, 23,  0,  0,  0,  1,  2,  1,  0,  2,\n",
       "         0,  0,  0,  0,  0,  0,  0,  0,  0,  0],\n",
       "       [ 0,  0,  0,  0,  0,  0,  0,  0,  7,  0,  1,  1,  0,  0,  0,  0,\n",
       "         0,  0,  0,  0,  0,  0,  0,  0,  0,  0],\n",
       "       [ 0,  0,  0,  0,  0,  0,  0,  1,  0, 11,  3,  0,  0,  0,  0,  0,\n",
       "         0,  0,  0,  0,  0,  0,  0,  0,  0,  0],\n",
       "       [ 1,  1,  0,  0,  0,  0,  0,  1,  0,  0, 15,  2,  0,  0,  0,  0,\n",
       "         0,  0,  0,  0,  0,  0,  0,  0,  0,  0],\n",
       "       [ 0,  2,  0,  0,  0,  0,  0,  0,  2,  2,  1, 10,  0,  0,  0,  0,\n",
       "         0,  0,  0,  0,  0,  0,  0,  0,  0,  0],\n",
       "       [ 1,  0,  0,  2,  0,  0,  0,  0,  0,  0,  0,  0, 16,  0,  0,  0,\n",
       "         0,  0,  0,  0,  0,  0,  0,  0,  0,  0],\n",
       "       [ 0,  0,  0,  0,  0,  0,  0,  0,  0,  0,  0,  0,  0,  2,  0,  0,\n",
       "         0,  0,  0,  0,  0,  0,  0,  0,  0,  0],\n",
       "       [ 0,  0,  0,  0,  0,  0,  0,  0,  0,  0,  0,  0,  0,  0,  3,  0,\n",
       "         0,  0,  0,  0,  0,  0,  0,  0,  0,  0],\n",
       "       [ 0,  1,  0,  2,  0,  0,  1,  1,  0,  0,  0,  0,  0,  0,  0,  5,\n",
       "         0,  0,  0,  0,  0,  0,  0,  0,  0,  0],\n",
       "       [ 0,  0,  0,  0,  1,  0,  0,  0,  0,  0,  0,  0,  0,  0,  0,  0,\n",
       "         3,  0,  0,  0,  0,  0,  0,  0,  0,  0],\n",
       "       [ 0,  0,  0,  0,  0,  0,  0,  0,  2,  0,  1,  1,  0,  0,  0,  0,\n",
       "         0,  9,  0,  1,  0,  0,  0,  0,  0,  0],\n",
       "       [ 4,  1,  0,  0,  0,  1,  0,  0,  1,  1,  1,  0,  0,  0,  0,  0,\n",
       "         0,  0, 15,  0,  0,  0,  0,  0,  0,  1],\n",
       "       [ 0,  2,  1,  1,  0,  0,  0,  0,  0,  0,  0,  0,  0,  0,  0,  0,\n",
       "         0,  0,  0,  4,  0,  0,  0,  0,  0,  0],\n",
       "       [ 0,  0,  0,  0,  0,  0,  0,  0,  0,  0,  0,  0,  0,  0,  0,  0,\n",
       "         0,  0,  0,  0,  4,  0,  1,  0,  0,  0],\n",
       "       [ 0,  1,  0,  0,  0,  0,  1,  0,  0,  0,  0,  0,  0,  0,  0,  0,\n",
       "         0,  0,  0,  0,  0,  4,  0,  0,  0,  0],\n",
       "       [ 0,  0,  1,  0,  0,  0,  0,  0,  0,  0,  0,  0,  0,  0,  0,  0,\n",
       "         0,  0,  1,  0,  0,  0,  5,  0,  0,  0],\n",
       "       [ 0,  1,  0,  0,  0,  0,  0,  0,  0,  0,  0,  0,  0,  0,  0,  0,\n",
       "         0,  0,  0,  0,  0,  0,  0,  3,  0,  0],\n",
       "       [ 0,  0,  0,  0,  0,  0,  0,  0,  0,  0,  0,  0,  0,  0,  0,  0,\n",
       "         0,  0,  0,  0,  0,  0,  0,  0,  4,  0],\n",
       "       [ 0,  1,  0,  0,  0,  0,  0,  4,  0,  0,  0,  0,  0,  0,  0,  0,\n",
       "         0,  0,  0,  0,  0,  0,  0,  0,  0,  0]])"
      ]
     },
     "execution_count": 20,
     "metadata": {},
     "output_type": "execute_result"
    }
   ],
   "source": [
    "from sklearn.metrics import confusion_matrix\n",
    "\n",
    "y_pred = np.argmax(model.predict(X_test), axis = 1)\n",
    "confusion_matrix(y_test, y_pred)"
   ]
  },
  {
   "cell_type": "code",
   "execution_count": null,
   "metadata": {},
   "outputs": [],
   "source": []
  },
  {
   "cell_type": "code",
   "execution_count": null,
   "metadata": {},
   "outputs": [],
   "source": []
  }
 ],
 "metadata": {
  "kernelspec": {
   "display_name": "Python 3",
   "language": "python",
   "name": "python3"
  },
  "language_info": {
   "codemirror_mode": {
    "name": "ipython",
    "version": 3
   },
   "file_extension": ".py",
   "mimetype": "text/x-python",
   "name": "python",
   "nbconvert_exporter": "python",
   "pygments_lexer": "ipython3",
   "version": "3.7.3"
  }
 },
 "nbformat": 4,
 "nbformat_minor": 2
}
